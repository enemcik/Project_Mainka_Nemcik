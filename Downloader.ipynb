{
 "cells": [
  {
   "cell_type": "code",
   "execution_count": null,
   "metadata": {},
   "outputs": [],
   "source": [
    "import requests\n",
    "from bs4 import BeautifulSoup\n",
    "from time import sleep\n",
    "from tqdm import tqdm\n",
    "import pandas as pd\n",
    "import numpy as np\n",
    "import re\n",
    "import matplotlib.pyplot as plt\n",
    "from matplotlib.patches import Ellipse, Circle"
   ]
  },
  {
   "cell_type": "code",
   "execution_count": 107,
   "metadata": {},
   "outputs": [],
   "source": [
    "class Downloader():\n",
    "    def __init__(self):\n",
    "        self.link = 'https://www.bezrealitky.cz/vypis/nabidka-pronajem/byt/praha?_token=pr1lf-vKwDFfmFbICiz2PfC-Zdwq-2JolXi4MeMHsrw&page=1'\n",
    "        self.request = requests.get(self.link)\n",
    "        self.request.encoding='UTF-8'\n",
    "        self.soup = BeautifulSoup(self.request.text,'lxml')\n",
    "        \n",
    "    def get_data(self):\n",
    "        descrips = []\n",
    "        values = []\n",
    "        vals = self.soup.findAll('strong', {'class':'product__value'})\n",
    "        for vl in vals:\n",
    "            values.append(vl.text.strip())\n",
    "        img = self.soup.findAll('img')\n",
    "        for i in img:\n",
    "            if 'Pronájem' and 'obr. č. 1' in i['alt']:\n",
    "                    info = i['alt'].split(',')[0:4]\n",
    "                    descrips.append(info)\n",
    "        count = 0\n",
    "        for pp in values:\n",
    "            descrips[count].append(pp)\n",
    "            descrips[count][0] = descrips[count][0][-4:].strip()\n",
    "            count += 1\n",
    "        for item in descrips:\n",
    "            prices = item.pop(4).split('+')\n",
    "            item.append(re.sub(\"[^0-9]\", \"\", prices[0]))\n",
    "            item.append(re.sub(\"[^0-9]\", \"\", prices[1]))\n",
    "        print(descrips)\n",
    "        \n",
    "        \n",
    "            \n",
    "        "
   ]
  },
  {
   "cell_type": "code",
   "execution_count": 108,
   "metadata": {},
   "outputs": [
    {
     "name": "stdout",
     "output_type": "stream",
     "text": [
      "[['3+1', ' 65 m²', ' Bajkalská', ' Praha - Vršovice', '15000', '4500'], ['2+kk', ' 53 m²', ' Sicherova', ' Praha - Kyje', '16000', '3000'], ['2+kk', ' 58 m²', ' Na Komořsku', ' Praha - Modřany', '16000', '4000'], ['2+kk', ' 46 m²', ' Nad Okrouhlíkem', ' Praha - Libeň', '14500', '3500'], ['2+kk', ' 55 m²', ' Nad Pískovnou', ' Praha - Krč', '16500', '2000'], ['1+kk', ' 42 m²', ' Korunní', ' Praha - Vinohrady', '13500', '2600'], ['2+1', ' 50 m²', ' Praha - Holešovice', ' Praha', '15000', '1300'], ['1+kk', ' 45 m²', ' Osadní', ' Praha - Holešovice', '16000', '3000'], ['2+kk', ' 45 m²', ' Černochova', ' Praha - Košíře', '14000', '2500'], ['4+kk', ' 80 m²', ' Na Bělidle', ' Praha - Smíchov', '32900', '4000']]\n"
     ]
    }
   ],
   "source": [
    "a = Downloader()\n",
    "a.get_data()"
   ]
  }
 ],
 "metadata": {
  "kernelspec": {
   "display_name": "Python 3",
   "language": "python",
   "name": "python3"
  },
  "language_info": {
   "codemirror_mode": {
    "name": "ipython",
    "version": 3
   },
   "file_extension": ".py",
   "mimetype": "text/x-python",
   "name": "python",
   "nbconvert_exporter": "python",
   "pygments_lexer": "ipython3",
   "version": "3.7.0"
  }
 },
 "nbformat": 4,
 "nbformat_minor": 2
}
