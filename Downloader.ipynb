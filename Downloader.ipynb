{
 "cells": [
  {
   "cell_type": "code",
   "execution_count": 13,
   "metadata": {},
   "outputs": [
    {
     "name": "stderr",
     "output_type": "stream",
     "text": [
      "unable to import 'smart_open.gcs', disabling that module\n"
     ]
    }
   ],
   "source": [
    "import requests\n",
    "from bs4 import BeautifulSoup\n",
    "from time import sleep\n",
    "from tqdm import tqdm\n",
    "import pandas as pd\n",
    "import numpy as np\n",
    "import re\n",
    "import json\n",
    "from gensim.utils import deaccent"
   ]
  },
  {
   "cell_type": "code",
   "execution_count": 120,
   "metadata": {},
   "outputs": [],
   "source": [
    "class Downloader():\n",
    "    def __init__(self):\n",
    "        self.link = 'https://www.bezrealitky.cz/vypis/nabidka-pronajem/byt/praha?_token=pr1lf-vKwDFfmFbICiz2PfC-Zdwq-2JolXi4MeMHsrw&page=1'\n",
    "        self.request = requests.get(self.link)\n",
    "        self.request.encoding='UTF-8'\n",
    "        self.soup = BeautifulSoup(self.request.text,'lxml')\n",
    "        \n",
    "    def get_data(self):\n",
    "        descrips = []\n",
    "        values = []\n",
    "        vals = self.soup.findAll('strong', {'class':'product__value'})\n",
    "        for vl in vals:\n",
    "            values.append(vl.text.strip())\n",
    "        img = self.soup.findAll('img')\n",
    "        for i in img:\n",
    "            if 'Pronájem' and 'obr. č. 1' in i['alt']:\n",
    "                    info = i['alt'].split(',')[0:4]\n",
    "                    if 'Praha' == info[-1].strip():\n",
    "                        info.insert(2, np.NaN)\n",
    "                        del info[-1]\n",
    "                        descrips.append(info)\n",
    "                    else:\n",
    "                        descrips.append(info)\n",
    "        print(descrips)\n",
    "        count = 0\n",
    "        for pp in values:\n",
    "            descrips[count].append(pp)\n",
    "            descrips[count][0] = descrips[count][0][-4:].strip()\n",
    "            count += 1\n",
    "        print(descrips)\n",
    "        for item in descrips:\n",
    "            prices = item.pop(4).split('+')\n",
    "            item.append(re.sub(\"[^0-9]\", \"\", prices[0]))\n",
    "            item.append(re.sub(\"[^0-9]\", \"\", prices[1]))\n",
    "        dicts = {}\n",
    "        count = 0\n",
    "        for item in descrips:\n",
    "            dict = {}\n",
    "            dict['Size'] = item[0]\n",
    "            dict['m2'] = re.sub(\"[^0-9]\", \"\", item[1])\n",
    "            dict['Street'] = deaccent(item[2])\n",
    "            dict['District'] = deaccent(item[3])\n",
    "            dict['Base Price'] = int(item[4])\n",
    "            dict['Utilities Price'] = int(item[5])\n",
    "            dict['Total Price'] = int(item[4]) + int(item[5])\n",
    "            dicts[count] = dict\n",
    "            count += 1\n",
    "        with open('bezrealitky.json', 'w') as write_file:\n",
    "            json.dump(dicts, write_file, indent = 4)\n",
    "        print(descrips)\n",
    "        \n",
    "        \n",
    "            \n",
    "        "
   ]
  },
  {
   "cell_type": "code",
   "execution_count": 119,
   "metadata": {},
   "outputs": [
    {
     "name": "stdout",
     "output_type": "stream",
     "text": [
      "[['Pronájem bytu 2+kk', ' 57 m²', ' Novovysočanská', ' Praha - Vysočany'], ['Pronájem bytu 3+kk', ' 89 m²', ' Sanderova Street', ' Praha - Holešovice'], ['Pronájem bytu 2+kk', ' 45 m²', nan, ' Praha - Žižkov'], ['Pronájem bytu 2+kk', ' 62 m²', ' Sanderova', ' Praha - Holešovice'], ['Pronájem bytu 2+kk', ' 83 m²', ' Nad Ostrovem', ' Praha - Podolí'], ['Pronájem bytu 1+kk', ' 29 m²', ' Sokolovská', ' Praha - Karlín'], ['Pronájem bytu 1+1', ' 40 m²', ' Práčská', ' Praha - Záběhlice'], ['Pronájem bytu 3+kk', ' 57 m²', ' Krakovská', ' Praha - Nové Město'], ['Pronájem bytu 2+kk', ' 54 m²', ' Rohanské Nábřeží', ' Praha - Karlín'], ['Pronájem bytu 1+1', ' 35 m²', ' Radimova', ' Praha - Břevnov']]\n",
      "[['2+kk', ' 57 m²', ' Novovysočanská', ' Praha - Vysočany', '15.990 Kč + 2.800 Kč'], ['3+kk', ' 89 m²', ' Sanderova Street', ' Praha - Holešovice', '33.000 Kč + 6.750 Kč'], ['2+kk', ' 45 m²', nan, ' Praha - Žižkov', '13.000 Kč + 1.300 Kč'], ['2+kk', ' 62 m²', ' Sanderova', ' Praha - Holešovice', '27.000 Kč + 4.500 Kč'], ['2+kk', ' 83 m²', ' Nad Ostrovem', ' Praha - Podolí', '30.000 Kč + 4.700 Kč'], ['1+kk', ' 29 m²', ' Sokolovská', ' Praha - Karlín', '11.000 Kč + 3.000 Kč'], ['1+1', ' 40 m²', ' Práčská', ' Praha - Záběhlice', '10.000 Kč + 3.350 Kč'], ['3+kk', ' 57 m²', ' Krakovská', ' Praha - Nové Město', '17.000 Kč + 4.202 Kč'], ['2+kk', ' 54 m²', ' Rohanské Nábřeží', ' Praha - Karlín', '21.000 Kč + 4.100 Kč'], ['1+1', ' 35 m²', ' Radimova', ' Praha - Břevnov', '5.000 Kč + 2.500 Kč']]\n"
     ]
    },
    {
     "ename": "AttributeError",
     "evalue": "'float' object has no attribute 'decode'",
     "output_type": "error",
     "traceback": [
      "\u001b[1;31m---------------------------------------------------------------------------\u001b[0m",
      "\u001b[1;31mAttributeError\u001b[0m                            Traceback (most recent call last)",
      "\u001b[1;32m<ipython-input-119-649a709c1051>\u001b[0m in \u001b[0;36m<module>\u001b[1;34m()\u001b[0m\n\u001b[0;32m      1\u001b[0m \u001b[0ma\u001b[0m \u001b[1;33m=\u001b[0m \u001b[0mDownloader\u001b[0m\u001b[1;33m(\u001b[0m\u001b[1;33m)\u001b[0m\u001b[1;33m\u001b[0m\u001b[0m\n\u001b[1;32m----> 2\u001b[1;33m \u001b[0ma\u001b[0m\u001b[1;33m.\u001b[0m\u001b[0mget_data\u001b[0m\u001b[1;33m(\u001b[0m\u001b[1;33m)\u001b[0m\u001b[1;33m\u001b[0m\u001b[0m\n\u001b[0m",
      "\u001b[1;32m<ipython-input-118-6076be05db3e>\u001b[0m in \u001b[0;36mget_data\u001b[1;34m(self)\u001b[0m\n\u001b[0;32m     39\u001b[0m             \u001b[0mdict\u001b[0m\u001b[1;33m[\u001b[0m\u001b[1;34m'Size'\u001b[0m\u001b[1;33m]\u001b[0m \u001b[1;33m=\u001b[0m \u001b[0mitem\u001b[0m\u001b[1;33m[\u001b[0m\u001b[1;36m0\u001b[0m\u001b[1;33m]\u001b[0m\u001b[1;33m\u001b[0m\u001b[0m\n\u001b[0;32m     40\u001b[0m             \u001b[0mdict\u001b[0m\u001b[1;33m[\u001b[0m\u001b[1;34m'm2'\u001b[0m\u001b[1;33m]\u001b[0m \u001b[1;33m=\u001b[0m \u001b[0mre\u001b[0m\u001b[1;33m.\u001b[0m\u001b[0msub\u001b[0m\u001b[1;33m(\u001b[0m\u001b[1;34m\"[^0-9]\"\u001b[0m\u001b[1;33m,\u001b[0m \u001b[1;34m\"\"\u001b[0m\u001b[1;33m,\u001b[0m \u001b[0mitem\u001b[0m\u001b[1;33m[\u001b[0m\u001b[1;36m1\u001b[0m\u001b[1;33m]\u001b[0m\u001b[1;33m)\u001b[0m\u001b[1;33m\u001b[0m\u001b[0m\n\u001b[1;32m---> 41\u001b[1;33m             \u001b[0mdict\u001b[0m\u001b[1;33m[\u001b[0m\u001b[1;34m'Street'\u001b[0m\u001b[1;33m]\u001b[0m \u001b[1;33m=\u001b[0m \u001b[0mdeaccent\u001b[0m\u001b[1;33m(\u001b[0m\u001b[0mitem\u001b[0m\u001b[1;33m[\u001b[0m\u001b[1;36m2\u001b[0m\u001b[1;33m]\u001b[0m\u001b[1;33m)\u001b[0m\u001b[1;33m\u001b[0m\u001b[0m\n\u001b[0m\u001b[0;32m     42\u001b[0m             \u001b[0mdict\u001b[0m\u001b[1;33m[\u001b[0m\u001b[1;34m'District'\u001b[0m\u001b[1;33m]\u001b[0m \u001b[1;33m=\u001b[0m \u001b[0mdeaccent\u001b[0m\u001b[1;33m(\u001b[0m\u001b[0mitem\u001b[0m\u001b[1;33m[\u001b[0m\u001b[1;36m3\u001b[0m\u001b[1;33m]\u001b[0m\u001b[1;33m)\u001b[0m\u001b[1;33m\u001b[0m\u001b[0m\n\u001b[0;32m     43\u001b[0m             \u001b[0mdict\u001b[0m\u001b[1;33m[\u001b[0m\u001b[1;34m'Base Price'\u001b[0m\u001b[1;33m]\u001b[0m \u001b[1;33m=\u001b[0m \u001b[0mint\u001b[0m\u001b[1;33m(\u001b[0m\u001b[0mitem\u001b[0m\u001b[1;33m[\u001b[0m\u001b[1;36m4\u001b[0m\u001b[1;33m]\u001b[0m\u001b[1;33m)\u001b[0m\u001b[1;33m\u001b[0m\u001b[0m\n",
      "\u001b[1;32m~\\Anaconda3\\lib\\site-packages\\gensim\\utils.py\u001b[0m in \u001b[0;36mdeaccent\u001b[1;34m(text)\u001b[0m\n\u001b[0;32m    190\u001b[0m     \u001b[1;32mif\u001b[0m \u001b[1;32mnot\u001b[0m \u001b[0misinstance\u001b[0m\u001b[1;33m(\u001b[0m\u001b[0mtext\u001b[0m\u001b[1;33m,\u001b[0m \u001b[0municode\u001b[0m\u001b[1;33m)\u001b[0m\u001b[1;33m:\u001b[0m\u001b[1;33m\u001b[0m\u001b[0m\n\u001b[0;32m    191\u001b[0m         \u001b[1;31m# assume utf8 for byte strings, use default (strict) error handling\u001b[0m\u001b[1;33m\u001b[0m\u001b[1;33m\u001b[0m\u001b[0m\n\u001b[1;32m--> 192\u001b[1;33m         \u001b[0mtext\u001b[0m \u001b[1;33m=\u001b[0m \u001b[0mtext\u001b[0m\u001b[1;33m.\u001b[0m\u001b[0mdecode\u001b[0m\u001b[1;33m(\u001b[0m\u001b[1;34m'utf8'\u001b[0m\u001b[1;33m)\u001b[0m\u001b[1;33m\u001b[0m\u001b[0m\n\u001b[0m\u001b[0;32m    193\u001b[0m     \u001b[0mnorm\u001b[0m \u001b[1;33m=\u001b[0m \u001b[0municodedata\u001b[0m\u001b[1;33m.\u001b[0m\u001b[0mnormalize\u001b[0m\u001b[1;33m(\u001b[0m\u001b[1;34m\"NFD\"\u001b[0m\u001b[1;33m,\u001b[0m \u001b[0mtext\u001b[0m\u001b[1;33m)\u001b[0m\u001b[1;33m\u001b[0m\u001b[0m\n\u001b[0;32m    194\u001b[0m     \u001b[0mresult\u001b[0m \u001b[1;33m=\u001b[0m \u001b[0mu\u001b[0m\u001b[1;33m(\u001b[0m\u001b[1;34m''\u001b[0m\u001b[1;33m)\u001b[0m\u001b[1;33m.\u001b[0m\u001b[0mjoin\u001b[0m\u001b[1;33m(\u001b[0m\u001b[0mch\u001b[0m \u001b[1;32mfor\u001b[0m \u001b[0mch\u001b[0m \u001b[1;32min\u001b[0m \u001b[0mnorm\u001b[0m \u001b[1;32mif\u001b[0m \u001b[0municodedata\u001b[0m\u001b[1;33m.\u001b[0m\u001b[0mcategory\u001b[0m\u001b[1;33m(\u001b[0m\u001b[0mch\u001b[0m\u001b[1;33m)\u001b[0m \u001b[1;33m!=\u001b[0m \u001b[1;34m'Mn'\u001b[0m\u001b[1;33m)\u001b[0m\u001b[1;33m\u001b[0m\u001b[0m\n",
      "\u001b[1;31mAttributeError\u001b[0m: 'float' object has no attribute 'decode'"
     ]
    }
   ],
   "source": [
    "a = Downloader()\n",
    "a.get_data()"
   ]
  }
 ],
 "metadata": {
  "kernelspec": {
   "display_name": "Python 3",
   "language": "python",
   "name": "python3"
  },
  "language_info": {
   "codemirror_mode": {
    "name": "ipython",
    "version": 3
   },
   "file_extension": ".py",
   "mimetype": "text/x-python",
   "name": "python",
   "nbconvert_exporter": "python",
   "pygments_lexer": "ipython3",
   "version": "3.7.0"
  }
 },
 "nbformat": 4,
 "nbformat_minor": 2
}
