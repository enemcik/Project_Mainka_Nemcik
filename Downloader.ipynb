{
 "cells": [
  {
   "cell_type": "code",
   "execution_count": 13,
   "metadata": {},
   "outputs": [
    {
     "name": "stderr",
     "output_type": "stream",
     "text": [
      "unable to import 'smart_open.gcs', disabling that module\n"
     ]
    }
   ],
   "source": [
    "import requests\n",
    "from bs4 import BeautifulSoup\n",
    "from time import sleep\n",
    "from tqdm import tqdm\n",
    "import pandas as pd\n",
    "import numpy as np\n",
    "import re\n",
    "import json\n",
    "from gensim.utils import deaccent"
   ]
  },
  {
   "cell_type": "code",
   "execution_count": 21,
   "metadata": {},
   "outputs": [],
   "source": [
    "class Downloader():\n",
    "    def __init__(self):\n",
    "        self.link = 'https://www.bezrealitky.cz/vypis/nabidka-pronajem/byt/praha?_token=pr1lf-vKwDFfmFbICiz2PfC-Zdwq-2JolXi4MeMHsrw&page=1'\n",
    "        self.request = requests.get(self.link)\n",
    "        self.request.encoding='UTF-8'\n",
    "        self.soup = BeautifulSoup(self.request.text,'lxml')\n",
    "        \n",
    "    def get_data(self):\n",
    "        descrips = []\n",
    "        values = []\n",
    "        vals = self.soup.findAll('strong', {'class':'product__value'})\n",
    "        for vl in vals:\n",
    "            values.append(vl.text.strip())\n",
    "        img = self.soup.findAll('img')\n",
    "        for i in img:\n",
    "            if 'Pronájem' and 'obr. č. 1' in i['alt']:\n",
    "                    info = i['alt'].split(',')[0:4]\n",
    "                    descrips.append(info)\n",
    "        count = 0\n",
    "        for pp in values:\n",
    "            descrips[count].append(pp)\n",
    "            descrips[count][0] = descrips[count][0][-4:].strip()\n",
    "            count += 1\n",
    "        for item in descrips:\n",
    "            prices = item.pop(4).split('+')\n",
    "            item.append(re.sub(\"[^0-9]\", \"\", prices[0]))\n",
    "            item.append(re.sub(\"[^0-9]\", \"\", prices[1]))\n",
    "        dicts = {}\n",
    "        count = 0\n",
    "        for item in descrips:\n",
    "            dict = {}\n",
    "            dict['Size'] = item[0]\n",
    "            dict['m2'] = re.sub(\"[^0-9]\", \"\", item[1])\n",
    "            dict['Street'] = deaccent(item[2])\n",
    "            dict['District'] = deaccent(item[3])\n",
    "            dict['Base Price'] = int(item[4])\n",
    "            dict['Utilities Price'] = int(item[5])\n",
    "            dict['Total Price'] = int(item[4]) + int(item[5])\n",
    "            dicts[count] = dict\n",
    "            count += 1\n",
    "        data = json.dumps(dicts)\n",
    "        with open('bezrealitky.json', 'w') as F:\n",
    "            F.write(data)\n",
    "        \n",
    "        \n",
    "            \n",
    "        "
   ]
  },
  {
   "cell_type": "code",
   "execution_count": 22,
   "metadata": {},
   "outputs": [],
   "source": [
    "a = Downloader()\n",
    "a.get_data()"
   ]
  }
 ],
 "metadata": {
  "kernelspec": {
   "display_name": "Python 3",
   "language": "python",
   "name": "python3"
  },
  "language_info": {
   "codemirror_mode": {
    "name": "ipython",
    "version": 3
   },
   "file_extension": ".py",
   "mimetype": "text/x-python",
   "name": "python",
   "nbconvert_exporter": "python",
   "pygments_lexer": "ipython3",
   "version": "3.7.0"
  }
 },
 "nbformat": 4,
 "nbformat_minor": 2
}
